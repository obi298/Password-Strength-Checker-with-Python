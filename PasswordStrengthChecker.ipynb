{
 "cells": [
  {
   "cell_type": "code",
   "execution_count": null,
   "id": "28d7c8e8",
   "metadata": {},
   "outputs": [],
   "source": [
    "# In the world of cybersecurity, millions of breaches happen every year. Many of those breaches are due to users having \n",
    "# weak passwords, or using the same password from multiple sites. Doing this only increases the risk of identity theft, \n",
    "# and sensitive data being compromised.\n",
    "\n",
    "# Users should ensure that their passwords are strong and hard to guess in order to prevent losing any sensitive information to \n",
    "# any attackers. \n",
    "\n",
    "# The user will be asked to enter a password and will be informed whether or not it meets all the requirements.\n",
    "\n",
    "\n",
    "import string\n",
    "import getpass\n",
    "import re\n",
    "\n",
    "\n",
    "# User will enter password without it being displayed on the screen\n",
    "password = getpass.getpass(\"Enter password: \")\n",
    "\n",
    "# Basic requirements for a strong password. The user's password must meet all the requirements in order for it to be accepted.\n",
    "if len(password) < 10:\n",
    "        print(\"This password is weak. Your password needs to be at least 10 characters long.\")\n",
    "        \n",
    "elif not re.search(\"[A-Z]\", password):\n",
    "        print(\"Password needs at least one uppercase letter.\")\n",
    "        \n",
    "elif not re.search(\"[a-z]\", password):\n",
    "        print(\"Password needs at least one lowercase letter.\")\n",
    "        \n",
    "elif not re.search(\"[0-9]\", password):\n",
    "        print(\"Password needs at least one number.\")\n",
    "        \n",
    "elif not re.search('[!@#$%^&*(),?\":{}|<>]', password):\n",
    "        print(\"Password needs at least one special character.\")\n",
    "        \n",
    "else:\n",
    "        print (\"Password is good to go.\")\n",
    "    \n",
    "        \n",
    "    \n",
    "    "
   ]
  },
  {
   "cell_type": "code",
   "execution_count": null,
   "id": "4a4b9386",
   "metadata": {},
   "outputs": [],
   "source": []
  },
  {
   "cell_type": "code",
   "execution_count": null,
   "id": "f5ffdf94",
   "metadata": {},
   "outputs": [],
   "source": []
  }
 ],
 "metadata": {
  "kernelspec": {
   "display_name": "Python 3 (ipykernel)",
   "language": "python",
   "name": "python3"
  },
  "language_info": {
   "codemirror_mode": {
    "name": "ipython",
    "version": 3
   },
   "file_extension": ".py",
   "mimetype": "text/x-python",
   "name": "python",
   "nbconvert_exporter": "python",
   "pygments_lexer": "ipython3",
   "version": "3.10.9"
  }
 },
 "nbformat": 4,
 "nbformat_minor": 5
}
